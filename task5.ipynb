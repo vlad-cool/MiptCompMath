{
 "cells": [
  {
   "cell_type": "markdown",
   "metadata": {},
   "source": [
    "# Численное интегрирование"
   ]
  },
  {
   "cell_type": "markdown",
   "metadata": {},
   "source": [
    "## Интегрирование таблично заданной функции\n",
    "\n",
    "вариант в)\n",
    "\n",
    "|  x   |   f(x)   |\n",
    "|------|----------|\n",
    "| 0.00 | 1.000000 |\n",
    "| 0.15 | 1.007568 |\n",
    "| 0.30 | 1.031121 |\n",
    "| 0.45 | 1.073456 |\n",
    "| 0.60 | 1.140228 |\n",
    "| 0.75 | 1.242129 |\n",
    "| 0.90 | 1.400176 |\n",
    "| 1.05 | 1.660300 |\n",
    "| 1.20 | 2.143460 |"
   ]
  },
  {
   "cell_type": "code",
   "execution_count": 28,
   "metadata": {},
   "outputs": [],
   "source": [
    "def integrate_trapezoid(x, y):\n",
    "    res = 0\n",
    "\n",
    "    for i in range(len(x) - 1):\n",
    "        res += (y[i + 1] + y[i]) / 2 * (x[i + 1] - x[i])\n",
    "\n",
    "    return res\n",
    "\n",
    "def get_trapezoid_delta(x, y):\n",
    "    I_t1 = integrate_trapezoid(x[::2], y[::2])\n",
    "    I_t2 = integrate_trapezoid(x, y)\n",
    "\n",
    "    return abs(I_t1 - I_t2) / 3\n",
    "\n",
    "def integrate_simpson(x, y):\n",
    "    res = 0\n",
    "\n",
    "    for i in range(0, len(x) - 2, 2):\n",
    "        res += (x[i + 2] - x[i]) / 6 * (y[i] + 4 * y[i + 1] + y[i + 2])\n",
    "\n",
    "    return res"
   ]
  },
  {
   "cell_type": "code",
   "execution_count": 29,
   "metadata": {},
   "outputs": [
    {
     "name": "stdout",
     "output_type": "stream",
     "text": [
      "Интеграл, вычесленный методом трапеций: 1.5190061999999998 +- 0.007990100000000075\n",
      "Интеграл, вычесленный по формуле Симпсона: 1.5110161\n"
     ]
    }
   ],
   "source": [
    "x = [\n",
    "    0.00,\n",
    "    0.15,\n",
    "    0.30,\n",
    "    0.45,\n",
    "    0.60,\n",
    "    0.75,\n",
    "    0.90,\n",
    "    1.05,\n",
    "    1.20,  \n",
    "]\n",
    "\n",
    "y = [\n",
    "    1.000000,\n",
    "    1.007568,\n",
    "    1.031121,\n",
    "    1.073456,\n",
    "    1.140228,\n",
    "    1.242129,\n",
    "    1.400176,\n",
    "    1.660300,\n",
    "    2.143460,\n",
    "]\n",
    "\n",
    "I_t = integrate_trapezoid(x, y)\n",
    "\n",
    "delta_t = get_trapezoid_delta(x, y)\n",
    "\n",
    "I_s = integrate_simpson(x, y)\n",
    "\n",
    "print(f\"Интеграл, вычесленный методом трапеций: {I_t} +- {delta_t}\")\n",
    "print(f\"Интеграл, вычесленный по формуле Симпсона: {I_s}\")\n"
   ]
  },
  {
   "cell_type": "markdown",
   "metadata": {},
   "source": [
    "## Посчитаем быстро осцилирующий интеграл\n",
    "\n",
    "$$ I = \\int_0^1 \\frac{\\sin(100x) \\text{d} x}{1 + x} $$\n",
    "\n",
    "$$ \\Delta I_t = -\\frac{h^3}{12} f''(x) <= \\frac{10000 h^3}{12} $$\n"
   ]
  },
  {
   "cell_type": "code",
   "execution_count": 30,
   "metadata": {},
   "outputs": [
    {
     "name": "stdout",
     "output_type": "stream",
     "text": [
      "Интеграл, вычесленный методом трапеций: -0.018714269227964445 +- 0.0035714835455167696\n",
      "Интеграл, вычесленный по формуле Симпсона: -0.022285752773481153\n"
     ]
    }
   ],
   "source": [
    "import math\n",
    "import numpy as np\n",
    "\n",
    "def f(x):\n",
    "    return math.sin(100 * x) / (1 + x)\n",
    "\n",
    "f = np.vectorize(f)\n",
    "\n",
    "h_t = (12 / 100000) ** (1 / 3)\n",
    "\n",
    "N = int(1 / h_t)\n",
    "\n",
    "if N % 2 == 0:\n",
    "    N += 1\n",
    "\n",
    "x = np.linspace(0, 1, N)\n",
    "y = f(x)\n",
    "\n",
    "I_t = integrate_trapezoid(x, y)\n",
    "delta_t = get_trapezoid_delta(x, y)\n",
    "I_s = integrate_simpson(x, y)\n",
    "\n",
    "print(f\"Интеграл, вычесленный методом трапеций: {I_t} +- {delta_t}\")\n",
    "print(f\"Интеграл, вычесленный по формуле Симпсона: {I_s}\")\n"
   ]
  }
 ],
 "metadata": {
  "kernelspec": {
   "display_name": "venv",
   "language": "python",
   "name": "python3"
  },
  "language_info": {
   "codemirror_mode": {
    "name": "ipython",
    "version": 3
   },
   "file_extension": ".py",
   "mimetype": "text/x-python",
   "name": "python",
   "nbconvert_exporter": "python",
   "pygments_lexer": "ipython3",
   "version": "3.10.15"
  }
 },
 "nbformat": 4,
 "nbformat_minor": 2
}
