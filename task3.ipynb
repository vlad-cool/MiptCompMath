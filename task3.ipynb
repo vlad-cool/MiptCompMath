{
 "cells": [
  {
   "cell_type": "markdown",
   "metadata": {},
   "source": [
    "# Нелинейные уравнения и систесы нелинейных уравнений"
   ]
  },
  {
   "cell_type": "code",
   "execution_count": 97,
   "metadata": {},
   "outputs": [],
   "source": [
    "import matplotlib.pyplot as plt\n",
    "import math\n",
    "from IPython.display import display, Math, Markdown\n",
    "import numpy as np\n",
    "%matplotlib inline"
   ]
  },
  {
   "cell_type": "code",
   "execution_count": 98,
   "metadata": {},
   "outputs": [],
   "source": [
    "epsilon = 0.00000001\n",
    "\n",
    "def derivative(f, x, h=0.00005):\n",
    "    return (f(x + h) - f(x - h)) / (2 * h)"
   ]
  },
  {
   "cell_type": "markdown",
   "metadata": {},
   "source": [
    "## Нелинейные уравнения\n",
    "\n",
    "Вариант з)\n",
    "$$ 2 lg(x) - x / 2 + 1 = 0 $$"
   ]
  },
  {
   "cell_type": "code",
   "execution_count": 99,
   "metadata": {},
   "outputs": [],
   "source": [
    "def solve_sim(f, f_i, x_0, epsilon):\n",
    "    iterations = 0\n",
    "    while abs(f(x_0)) > epsilon:\n",
    "        x_0 = f_i(x_0)\n",
    "        iterations += 1\n",
    "    return x_0, iterations\n",
    "\n",
    "def solve_Newton(f, x, epsilon):\n",
    "    iterations = 0\n",
    "    while abs(f(x)) > epsilon:\n",
    "        x = x - f(x) / derivative(f, x)\n",
    "        iterations += 1\n",
    "    return x, iterations\n",
    "\n",
    "def show_solution(x, f_x, iterations):\n",
    "    f_x = str(f_x)\n",
    "    f_x = f_x.replace('e', '\\\\cdot 10^{')\n",
    "    f_x += \"}\"\n",
    "\n",
    "    display(Markdown(f\"Корень $x={x}$ найден за {iterations} итераций, $f(x)={f_x}$\"))"
   ]
  },
  {
   "cell_type": "code",
   "execution_count": 100,
   "metadata": {},
   "outputs": [
    {
     "data": {
      "text/markdown": [
       "# Нелинейные уравнения"
      ],
      "text/plain": [
       "<IPython.core.display.Markdown object>"
      ]
     },
     "metadata": {},
     "output_type": "display_data"
    },
    {
     "data": {
      "text/markdown": [
       "## Решим уравнение, представленнок ниже"
      ],
      "text/plain": [
       "<IPython.core.display.Markdown object>"
      ]
     },
     "metadata": {},
     "output_type": "display_data"
    },
    {
     "data": {
      "text/latex": [
       "$\\displaystyle 2 lg(x) - x / 2 + 1 = 0$"
      ],
      "text/plain": [
       "<IPython.core.display.Math object>"
      ]
     },
     "metadata": {},
     "output_type": "display_data"
    },
    {
     "data": {
      "text/markdown": [
       "### Решим уравнение методом простой итерации"
      ],
      "text/plain": [
       "<IPython.core.display.Markdown object>"
      ]
     },
     "metadata": {},
     "output_type": "display_data"
    },
    {
     "data": {
      "text/latex": [
       "$\\displaystyle x_{i+1} = 4 \\log(x) + 2$"
      ],
      "text/plain": [
       "<IPython.core.display.Math object>"
      ]
     },
     "metadata": {},
     "output_type": "display_data"
    },
    {
     "data": {
      "text/markdown": [
       "Корень $x=4.681563795698658$ найден за 19 итераций, $f(x)=-6.059498236510308\\cdot 10^{-09}$"
      ],
      "text/plain": [
       "<IPython.core.display.Markdown object>"
      ]
     },
     "metadata": {},
     "output_type": "display_data"
    },
    {
     "data": {
      "text/latex": [
       "$\\displaystyle x_{i+1} = 10^{x_i / 4 - 1 / 2}$"
      ],
      "text/plain": [
       "<IPython.core.display.Math object>"
      ]
     },
     "metadata": {},
     "output_type": "display_data"
    },
    {
     "data": {
      "text/markdown": [
       "Корень $x=0.3975449442201965$ найден за 13 итераций, $f(x)=-2.736808557557424\\cdot 10^{-09}$"
      ],
      "text/plain": [
       "<IPython.core.display.Markdown object>"
      ]
     },
     "metadata": {},
     "output_type": "display_data"
    },
    {
     "data": {
      "text/markdown": [
       "### Решим уравнение методом Ньютона"
      ],
      "text/plain": [
       "<IPython.core.display.Markdown object>"
      ]
     },
     "metadata": {},
     "output_type": "display_data"
    },
    {
     "data": {
      "text/markdown": [
       "Корень $x=4.681563776434565$ найден за 4 итераций, $f(x)=-1.5947243525715749\\cdot 10^{-12}$"
      ],
      "text/plain": [
       "<IPython.core.display.Markdown object>"
      ]
     },
     "metadata": {},
     "output_type": "display_data"
    },
    {
     "data": {
      "text/markdown": [
       "Корень $x=0.39754494554450803$ найден за 8 итераций, $f(x)=-5.054994201003637\\cdot 10^{-10}$"
      ],
      "text/plain": [
       "<IPython.core.display.Markdown object>"
      ]
     },
     "metadata": {},
     "output_type": "display_data"
    }
   ],
   "source": [
    "display(Markdown(\"# Нелинейные уравнения\"))\n",
    "display(Markdown(\"## Решим уравнение, представленнок ниже\"))\n",
    "display(Math(r\"2 lg(x) - x / 2 + 1 = 0\"))\n",
    "\n",
    "def f(x):\n",
    "    return 2 * math.log10(x) - x / 2 + 1\n",
    "\n",
    "# Метод простой итерации\n",
    "display(Markdown(\"### Решим уравнение методом простой итерации\"))\n",
    "\n",
    "################################################################\n",
    "\n",
    "def f_1(x):\n",
    "    return 4 * math.log10(x) + 2\n",
    "\n",
    "x, iterations = solve_sim(f, f_1, 10, epsilon)\n",
    "\n",
    "display(Math(r\"x_{i+1} = 4 \\log(x) + 2\"))\n",
    "show_solution(x, f(x), iterations)\n",
    "\n",
    "################################################################\n",
    "\n",
    "def f_2(x):\n",
    "    return math.pow(10, x / 4 - 1 / 2)\n",
    "\n",
    "x, iterations = solve_sim(f, f_2, 0.001, epsilon)\n",
    "\n",
    "display(Math(r\"x_{i+1} = 10^{x_i / 4 - 1 / 2}\"))\n",
    "show_solution(x, f(x), iterations)\n",
    "\n",
    "################################################################\n",
    "\n",
    "# Метод Ньютона\n",
    "display(Markdown(\"### Решим уравнение методом Ньютона\"))\n",
    "\n",
    "################################################################\n",
    "\n",
    "x, iterations = solve_Newton(f, 10, epsilon)\n",
    "show_solution(x, f(x), iterations)\n",
    "\n",
    "################################################################\n",
    "\n",
    "x, iterations = solve_Newton(f, 0.001, epsilon)\n",
    "show_solution(x, f(x), iterations)\n",
    "\n",
    "################################################################\n"
   ]
  }
 ],
 "metadata": {
  "kernelspec": {
   "display_name": "venv",
   "language": "python",
   "name": "python3"
  },
  "language_info": {
   "codemirror_mode": {
    "name": "ipython",
    "version": 3
   },
   "file_extension": ".py",
   "mimetype": "text/x-python",
   "name": "python",
   "nbconvert_exporter": "python",
   "pygments_lexer": "ipython3",
   "version": "3.10.15"
  }
 },
 "nbformat": 4,
 "nbformat_minor": 2
}
