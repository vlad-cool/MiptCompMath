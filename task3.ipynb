{
 "cells": [
  {
   "cell_type": "markdown",
   "metadata": {},
   "source": [
    "# Нелинейные уравнения и систесы нелинейных уравнений"
   ]
  },
  {
   "cell_type": "code",
   "execution_count": 15,
   "metadata": {},
   "outputs": [],
   "source": [
    "import matplotlib.pyplot as plt\n",
    "import math\n",
    "from IPython.display import display, Math, Markdown\n",
    "import numpy as np\n",
    "%matplotlib inline"
   ]
  },
  {
   "cell_type": "code",
   "execution_count": 16,
   "metadata": {},
   "outputs": [],
   "source": [
    "epsilon = 0.00000001\n",
    "\n",
    "def derivative(f, x, h=0.00005):\n",
    "    return (f(x + h) - f(x - h)) / (2 * h)"
   ]
  },
  {
   "cell_type": "markdown",
   "metadata": {},
   "source": [
    "## Нелинейные уравнения\n",
    "\n",
    "Вариант з)\n",
    "$$ 2 lg(x) - x / 2 + 1 = 0 $$"
   ]
  },
  {
   "cell_type": "code",
   "execution_count": 17,
   "metadata": {},
   "outputs": [],
   "source": [
    "def solve_sim(f, f_i, x_0, epsilon):\n",
    "    iterations = 0\n",
    "    while abs(f(x_0)) > epsilon:\n",
    "        x_0 = f_i(x_0)\n",
    "        iterations += 1\n",
    "    return x_0, iterations\n",
    "\n",
    "def solve_Newton(f, x, epsilon):\n",
    "    iterations = 0\n",
    "    while abs(f(x)) > epsilon:\n",
    "        x = x - f(x) / derivative(f, x)\n",
    "        iterations += 1\n",
    "    return x, iterations\n",
    "\n",
    "def show_solution(x, f_x, iterations):\n",
    "    f_x = str(f_x)\n",
    "    f_x = f_x.replace('e', '\\\\cdot 10^{')\n",
    "    f_x += \"}\"\n",
    "\n",
    "    display(Markdown(f\"Корень $x={x}$ найден за {iterations} итераций, $f(x)={f_x}$\"))"
   ]
  },
  {
   "cell_type": "code",
   "execution_count": 18,
   "metadata": {},
   "outputs": [
    {
     "data": {
      "text/markdown": [
       "# Нелинейные уравнения\n",
       "## Решим уравнение, представленное ниже\n",
       "$$ 2 lg(x) - x / 2 + 1 = 0 $$"
      ],
      "text/plain": [
       "<IPython.core.display.Markdown object>"
      ]
     },
     "metadata": {},
     "output_type": "display_data"
    },
    {
     "data": {
      "text/markdown": [
       "### Решим уравнение методом простой итерации"
      ],
      "text/plain": [
       "<IPython.core.display.Markdown object>"
      ]
     },
     "metadata": {},
     "output_type": "display_data"
    },
    {
     "data": {
      "text/latex": [
       "$\\displaystyle x_{i+1} = 4 \\log(x) + 2$"
      ],
      "text/plain": [
       "<IPython.core.display.Math object>"
      ]
     },
     "metadata": {},
     "output_type": "display_data"
    },
    {
     "data": {
      "text/markdown": [
       "Корень $x=4.681563795698658$ найден за 19 итераций, $f(x)=-6.059498236510308\\cdot 10^{-09}$"
      ],
      "text/plain": [
       "<IPython.core.display.Markdown object>"
      ]
     },
     "metadata": {},
     "output_type": "display_data"
    },
    {
     "data": {
      "text/latex": [
       "$\\displaystyle x_{i+1} = 10^{x_i / 4 - 1 / 2}$"
      ],
      "text/plain": [
       "<IPython.core.display.Math object>"
      ]
     },
     "metadata": {},
     "output_type": "display_data"
    },
    {
     "data": {
      "text/markdown": [
       "Корень $x=0.3975449442201965$ найден за 13 итераций, $f(x)=-2.736808557557424\\cdot 10^{-09}$"
      ],
      "text/plain": [
       "<IPython.core.display.Markdown object>"
      ]
     },
     "metadata": {},
     "output_type": "display_data"
    },
    {
     "data": {
      "text/markdown": [
       "### Решим уравнение методом Ньютона"
      ],
      "text/plain": [
       "<IPython.core.display.Markdown object>"
      ]
     },
     "metadata": {},
     "output_type": "display_data"
    },
    {
     "data": {
      "text/markdown": [
       "Корень $x=4.681563776434565$ найден за 4 итераций, $f(x)=-1.5947243525715749\\cdot 10^{-12}$"
      ],
      "text/plain": [
       "<IPython.core.display.Markdown object>"
      ]
     },
     "metadata": {},
     "output_type": "display_data"
    },
    {
     "data": {
      "text/markdown": [
       "Корень $x=0.39754494554450803$ найден за 8 итераций, $f(x)=-5.054994201003637\\cdot 10^{-10}$"
      ],
      "text/plain": [
       "<IPython.core.display.Markdown object>"
      ]
     },
     "metadata": {},
     "output_type": "display_data"
    }
   ],
   "source": [
    "display(Markdown(\"\"\"# Нелинейные уравнения\n",
    "## Решим уравнение, представленное ниже\n",
    "$$ 2 lg(x) - x / 2 + 1 = 0 $$\"\"\"))\n",
    "\n",
    "def f(x):\n",
    "    return 2 * math.log10(x) - x / 2 + 1\n",
    "\n",
    "# Метод простой итерации\n",
    "display(Markdown(\"### Решим уравнение методом простой итерации\"))\n",
    "\n",
    "################################################################\n",
    "\n",
    "def f_1(x):\n",
    "    return 4 * math.log10(x) + 2\n",
    "\n",
    "x, iterations = solve_sim(f, f_1, 10, epsilon)\n",
    "\n",
    "display(Math(r\"x_{i+1} = 4 \\log(x) + 2\"))\n",
    "show_solution(x, f(x), iterations)\n",
    "\n",
    "################################################################\n",
    "\n",
    "def f_2(x):\n",
    "    return math.pow(10, x / 4 - 1 / 2)\n",
    "\n",
    "x, iterations = solve_sim(f, f_2, 0.001, epsilon)\n",
    "\n",
    "display(Math(r\"x_{i+1} = 10^{x_i / 4 - 1 / 2}\"))\n",
    "show_solution(x, f(x), iterations)\n",
    "\n",
    "################################################################\n",
    "\n",
    "# Метод Ньютона\n",
    "display(Markdown(\"### Решим уравнение методом Ньютона\"))\n",
    "\n",
    "################################################################\n",
    "\n",
    "x, iterations = solve_Newton(f, 10, epsilon)\n",
    "show_solution(x, f(x), iterations)\n",
    "\n",
    "################################################################\n",
    "\n",
    "x, iterations = solve_Newton(f, 0.001, epsilon)\n",
    "show_solution(x, f(x), iterations)\n",
    "\n",
    "################################################################\n"
   ]
  },
  {
   "cell_type": "markdown",
   "metadata": {},
   "source": [
    "# Системы нелинейных уравнений\n",
    "\n",
    "Вариант IV.12.6 а)\n",
    "\n",
    "\\begin{equation}\n",
    "    \\begin{cases}\n",
    "        \\sin(x + 1) - y = 1.2 \\\\\n",
    "        2x + \\cos(y) = 2\n",
    "    \\end{cases}\\\n",
    "\\end{equation}\n"
   ]
  },
  {
   "cell_type": "code",
   "execution_count": 19,
   "metadata": {},
   "outputs": [],
   "source": [
    "\n",
    "def solve_linear_system(A, f):\n",
    "    A_1 =np.array([\n",
    "        np.array([A[1][1], -A[0][1]]),\n",
    "        np.array([-A[1][0], A[0][0]]),\n",
    "    ])\n",
    "    \n",
    "    det = A[0][0] * A[1][1] - A[0][1] * A[1][0]\n",
    "    \n",
    "    A_1 /= det\n",
    "    \n",
    "    return A_1 @ f\n",
    "\n",
    "\n",
    "def derivative(f, x, i, j, h=0.00005):\n",
    "    x_1 = np.copy(x)\n",
    "    x_1[j] += h\n",
    "    x_2 = np.copy(x) \n",
    "    x_2[j] -= h\n",
    "    return (f(x_1)[i] - f(x_2))[i] / (2 * h)"
   ]
  },
  {
   "cell_type": "code",
   "execution_count": 20,
   "metadata": {},
   "outputs": [],
   "source": [
    "def solve_sim(f, f_i, x_0, epsilon):\n",
    "    iterations = 0\n",
    "    while np.sum(abs(f(x_0))) > epsilon:\n",
    "        x_0 = f_i(x_0)\n",
    "        iterations += 1\n",
    "    return x_0, iterations\n",
    "\n",
    "def solve_Newton(f, x, epsilon):    \n",
    "    iterations = 0\n",
    "    while np.sum(np.abs(f(x))) > epsilon:\n",
    "        J = np.array([[0.0] * 2] * 2)\n",
    "\n",
    "        for i in range(2):\n",
    "            for j in range(2):\n",
    "                J[i][j] = derivative(f, x, i, j)\n",
    "\n",
    "        x = x + solve_linear_system(J, -f(x))\n",
    "                \n",
    "        iterations += 1\n",
    "    return x, iterations\n",
    "\n",
    "def show_solution(x, f_x, iterations):\n",
    "    f_x_s = [\"\"] * len(f_x)\n",
    "    for i in range(len(f_x)):\n",
    "        f_x_s[i] = str(f_x[i])\n",
    "        if \"e\" in f_x_s[i]:\n",
    "            f_x_s[i] = f_x_s[i].replace('e', '\\\\cdot 10^{')\n",
    "            f_x_s[i] += \"}\"\n",
    "    \n",
    "    display(Markdown(f\"Корень $x = \\\\begin{{bmatrix}} {x[0]} \\\\\\\\ {x[1]} \\\\end{{bmatrix}}$ найден за {iterations} итераций, $f(x)=\\\\begin{{bmatrix}} {f_x_s[0]} \\\\\\\\ {f_x_s[1]} \\\\end{{bmatrix}}$\"))"
   ]
  },
  {
   "cell_type": "code",
   "execution_count": null,
   "metadata": {},
   "outputs": [
    {
     "data": {
      "text/markdown": [
       "# Системы нелинейных уравнений"
      ],
      "text/plain": [
       "<IPython.core.display.Markdown object>"
      ]
     },
     "metadata": {},
     "output_type": "display_data"
    },
    {
     "data": {
      "text/markdown": [
       "## Решим систему уравнений, представленную ниже"
      ],
      "text/plain": [
       "<IPython.core.display.Markdown object>"
      ]
     },
     "metadata": {},
     "output_type": "display_data"
    },
    {
     "data": {
      "text/latex": [
       "$\\displaystyle \\begin{equation}\n",
       "    \\begin{cases}\n",
       "        \\sin(x + 1) - y = 1.2 \\\\\n",
       "        2x + \\cos(y) = 2\n",
       "    \\end{cases}\\\n",
       "\\end{equation}$"
      ],
      "text/plain": [
       "<IPython.core.display.Math object>"
      ]
     },
     "metadata": {},
     "output_type": "display_data"
    },
    {
     "data": {
      "text/markdown": [
       "### Преобразуем систему уравнений"
      ],
      "text/plain": [
       "<IPython.core.display.Markdown object>"
      ]
     },
     "metadata": {},
     "output_type": "display_data"
    },
    {
     "data": {
      "text/latex": [
       "$\\displaystyle \\begin{equation}\n",
       "    \\begin{cases}\n",
       "        \\sin(x + 1) - y - 1.2 = 0 \\\\\n",
       "        2x + \\cos(y) - 2 = 0\n",
       "    \\end{cases}\\\n",
       "\\end{equation}$"
      ],
      "text/plain": [
       "<IPython.core.display.Math object>"
      ]
     },
     "metadata": {},
     "output_type": "display_data"
    },
    {
     "data": {
      "text/markdown": [
       "### Решим систему методом простой итерации"
      ],
      "text/plain": [
       "<IPython.core.display.Markdown object>"
      ]
     },
     "metadata": {},
     "output_type": "display_data"
    },
    {
     "data": {
      "text/latex": [
       "$\\displaystyle \\begin{equation}\n",
       "    \\begin{cases}\n",
       "        x_{i+1} = 1 - \\cos(y_i) / 2 \\\\\n",
       "        y_{i+1} = \\sin(x_i + 1) - 1.2\n",
       "    \\end{cases}\\\n",
       "\\end{equation}$"
      ],
      "text/plain": [
       "<IPython.core.display.Math object>"
      ]
     },
     "metadata": {},
     "output_type": "display_data"
    },
    {
     "data": {
      "text/markdown": [
       "Корень $x = \\begin{bmatrix} 0.5101501534701 \\\\ -0.20183841520694945 \\end{bmatrix}$ найден за 8 итераций, $f(x)=\\begin{bmatrix} -3.908871004654202\\cdot 10^{-10} \\\\ -7.931284962126028\\cdot 10^{-09} \\end{bmatrix}$"
      ],
      "text/plain": [
       "<IPython.core.display.Markdown object>"
      ]
     },
     "metadata": {},
     "output_type": "display_data"
    },
    {
     "data": {
      "text/markdown": [
       "### Решим уравнение методом Ньютона"
      ],
      "text/plain": [
       "<IPython.core.display.Markdown object>"
      ]
     },
     "metadata": {},
     "output_type": "display_data"
    },
    {
     "data": {
      "text/markdown": [
       "Корень $x = \\begin{bmatrix} 0.510150157444577 \\\\ -0.20183841535681687 \\end{bmatrix}$ найден за 4 итераций, $f(x)=\\begin{bmatrix} -1.3078427230084344\\cdot 10^{-13} \\\\ -1.237476787707692\\cdot 10^{-11} \\end{bmatrix}$"
      ],
      "text/plain": [
       "<IPython.core.display.Markdown object>"
      ]
     },
     "metadata": {},
     "output_type": "display_data"
    }
   ],
   "source": [
    "display(Markdown(\"# Системы нелинейных уравнений\"))\n",
    "display(Markdown(\"## Решим систему уравнений, представленную ниже\"))\n",
    "display(Math(r\"\"\"\\begin{equation}\n",
    "    \\begin{cases}\n",
    "        \\sin(x + 1) - y = 1.2 \\\\\n",
    "        2x + \\cos(y) = 2\n",
    "    \\end{cases}\\\n",
    "\\end{equation}\"\"\"))\n",
    "display(Markdown(\"### Преобразуем систему уравнений\"))\n",
    "display(Math(r\"\"\"\\begin{equation}\n",
    "    \\begin{cases}\n",
    "        \\sin(x + 1) - y - 1.2 = 0 \\\\\n",
    "        2x + \\cos(y) - 2 = 0\n",
    "    \\end{cases}\\\n",
    "\\end{equation}\"\"\"))\n",
    "\n",
    "def f(x):\n",
    "    return np.array([\n",
    "        np.sin(x[0] + 1) - x[1] - 1.2,\n",
    "        2 * x[0] + np.cos(x[1]) - 2,\n",
    "    ])\n",
    "\n",
    "# Метод простой итерации\n",
    "display(Markdown(\"### Решим систему методом простой итерации\"))\n",
    "\n",
    "################################################################\n",
    "\n",
    "def f_1(x):\n",
    "    return np.array([\n",
    "        1 - np.cos(x[1]) / 2,\n",
    "        np.sin(x[0] + 1) - 1.2,\n",
    "    ])\n",
    "\n",
    "x, iterations = solve_sim(f, f_1, np.array([0.0, 0.0]), epsilon)\n",
    "\n",
    "display(Math(r\"\"\"\\begin{equation}\n",
    "    \\begin{cases}\n",
    "        x_{i+1} = 1 - \\cos(y_i) / 2 \\\\\n",
    "        y_{i+1} = \\sin(x_i + 1) - 1.2\n",
    "    \\end{cases}\\\n",
    "\\end{equation}\"\"\"))\n",
    "show_solution(x, f(x), iterations)\n",
    "\n",
    "################################################################\n",
    "\n",
    "# Метод Ньютона\n",
    "display(Markdown(\"### Решим систему уравнений методом Ньютона\"))\n",
    "\n",
    "################################################################\n",
    "\n",
    "x, iterations = solve_Newton(f, np.array([0.0, 0.0]), epsilon)\n",
    "show_solution(x, f(x), iterations)\n",
    "\n",
    "################################################################\n"
   ]
  }
 ],
 "metadata": {
  "kernelspec": {
   "display_name": "venv",
   "language": "python",
   "name": "python3"
  },
  "language_info": {
   "codemirror_mode": {
    "name": "ipython",
    "version": 3
   },
   "file_extension": ".py",
   "mimetype": "text/x-python",
   "name": "python",
   "nbconvert_exporter": "python",
   "pygments_lexer": "ipython3",
   "version": "3.10.15"
  }
 },
 "nbformat": 4,
 "nbformat_minor": 2
}
