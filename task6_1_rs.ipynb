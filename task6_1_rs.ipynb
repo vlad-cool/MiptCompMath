{
 "cells": [
  {
   "cell_type": "code",
   "execution_count": 2,
   "metadata": {
    "vscode": {
     "languageId": "rust"
    }
   },
   "outputs": [
    {
     "name": "stdout",
     "output_type": "stream",
     "text": [
      "Crutch to fix VSCode - product of small and poor company that cannot make Jupyter notebook run from first cell on first run, it runs from second on first launch and then runs from first (if using run all button)\n"
     ]
    },
    {
     "data": {
      "text/plain": [
       "()"
      ]
     },
     "execution_count": 2,
     "metadata": {},
     "output_type": "execute_result"
    }
   ],
   "source": [
    "println!(\"Crutch to fix VSCode - product of small and poor company that cannot make Jupyter notebook run from first cell on first run, it runs from second on first launch and then runs from first (if using run all button)\")"
   ]
  },
  {
   "cell_type": "code",
   "execution_count": 3,
   "metadata": {
    "vscode": {
     "languageId": "rust"
    }
   },
   "outputs": [
    {
     "name": "stdout",
     "output_type": "stream",
     "text": [
      "Hello, world!\n"
     ]
    }
   ],
   "source": [
    "println!(\"Hello, world!\");"
   ]
  },
  {
   "cell_type": "code",
   "execution_count": 4,
   "metadata": {
    "vscode": {
     "languageId": "rust"
    }
   },
   "outputs": [],
   "source": [
    ":dep comp_math_rs = { path = \"comp_math_rs\" }\n",
    "use comp_math_rs as solvers;\n",
    "use comp_math_rs::DifferentialEquationNumericMethod;"
   ]
  },
  {
   "cell_type": "code",
   "execution_count": 5,
   "metadata": {
    "vscode": {
     "languageId": "rust"
    }
   },
   "outputs": [],
   "source": [
    ":dep plotters = { git = \"https://github.com/38/plotters\", features = [\"evcxr\"] }\n",
    "extern crate plotters;\n",
    "use plotters::prelude::*;"
   ]
  },
  {
   "cell_type": "code",
   "execution_count": null,
   "metadata": {
    "vscode": {
     "languageId": "rust"
    }
   },
   "outputs": [
    {
     "ename": "Error",
     "evalue": "the `?` operator can only be applied to values that implement `Try`",
     "output_type": "error",
     "traceback": [
      "\u001b[31m[E0277] Error:\u001b[0m the `?` operator can only be applied to values that implement `Try`",
      "   \u001b[38;5;246m╭\u001b[0m\u001b[38;5;246m─\u001b[0m\u001b[38;5;246m[\u001b[0mcommand_7:1:1\u001b[38;5;246m]\u001b[0m",
      "   \u001b[38;5;246m│\u001b[0m",
      " \u001b[38;5;246m3 │\u001b[0m \u001b[38;5;54m╭\u001b[0m\u001b[38;5;54m─\u001b[0m\u001b[38;5;54m▶\u001b[0m\u001b[38;5;54m \u001b[0m\u001b[38;5;249m \u001b[0m\u001b[38;5;249m \u001b[0m\u001b[38;5;249m \u001b[0m\u001b[38;5;249m \u001b[0m\u001b[38;5;249ml\u001b[0m\u001b[38;5;249me\u001b[0m\u001b[38;5;249mt\u001b[0m\u001b[38;5;249m \u001b[0m\u001b[38;5;249mm\u001b[0m\u001b[38;5;249mu\u001b[0m\u001b[38;5;249mt\u001b[0m\u001b[38;5;249m \u001b[0m\u001b[38;5;249mc\u001b[0m\u001b[38;5;249mh\u001b[0m\u001b[38;5;249ma\u001b[0m\u001b[38;5;249mr\u001b[0m\u001b[38;5;249mt\u001b[0m\u001b[38;5;249m \u001b[0m\u001b[38;5;249m=\u001b[0m\u001b[38;5;249m \u001b[0m\u001b[38;5;54mC\u001b[0m\u001b[38;5;54mh\u001b[0m\u001b[38;5;54ma\u001b[0m\u001b[38;5;54mr\u001b[0m\u001b[38;5;54mt\u001b[0m\u001b[38;5;54mB\u001b[0m\u001b[38;5;54mu\u001b[0m\u001b[38;5;54mi\u001b[0m\u001b[38;5;54ml\u001b[0m\u001b[38;5;54md\u001b[0m\u001b[38;5;54me\u001b[0m\u001b[38;5;54mr\u001b[0m\u001b[38;5;54m:\u001b[0m\u001b[38;5;54m:\u001b[0m\u001b[38;5;54mo\u001b[0m\u001b[38;5;54mn\u001b[0m\u001b[38;5;54m(\u001b[0m\u001b[38;5;54m&\u001b[0m\u001b[38;5;54mr\u001b[0m\u001b[38;5;54mo\u001b[0m\u001b[38;5;54mo\u001b[0m\u001b[38;5;54mt\u001b[0m\u001b[38;5;54m)\u001b[0m",
      " \u001b[38;5;240m  ┆\u001b[0m \u001b[38;5;54m┆\u001b[0m   ",
      " \u001b[38;5;246m7 │\u001b[0m \u001b[38;5;54m├\u001b[0m\u001b[38;5;54m─\u001b[0m\u001b[38;5;54m▶\u001b[0m\u001b[38;5;54m \u001b[0m\u001b[38;5;54m \u001b[0m\u001b[38;5;54m \u001b[0m\u001b[38;5;54m \u001b[0m\u001b[38;5;54m \u001b[0m\u001b[38;5;54m \u001b[0m\u001b[38;5;54m \u001b[0m\u001b[38;5;54m \u001b[0m\u001b[38;5;54m \u001b[0m\u001b[38;5;54m.\u001b[0m\u001b[38;5;54my\u001b[0m\u001b[38;5;54m_\u001b[0m\u001b[38;5;54ml\u001b[0m\u001b[38;5;54ma\u001b[0m\u001b[38;5;54mb\u001b[0m\u001b[38;5;54me\u001b[0m\u001b[38;5;54ml\u001b[0m\u001b[38;5;54m_\u001b[0m\u001b[38;5;54ma\u001b[0m\u001b[38;5;54mr\u001b[0m\u001b[38;5;54me\u001b[0m\u001b[38;5;54ma\u001b[0m\u001b[38;5;54m_\u001b[0m\u001b[38;5;54ms\u001b[0m\u001b[38;5;54mi\u001b[0m\u001b[38;5;54mz\u001b[0m\u001b[38;5;54me\u001b[0m\u001b[38;5;54m(\u001b[0m\u001b[38;5;54m3\u001b[0m\u001b[38;5;54m0\u001b[0m\u001b[38;5;54m)\u001b[0m\u001b[38;5;54m?\u001b[0m\u001b[38;5;249m;\u001b[0m",
      " \u001b[38;5;240m  │\u001b[0m \u001b[38;5;54m│\u001b[0m                                      ",
      " \u001b[38;5;240m  │\u001b[0m \u001b[38;5;54m╰\u001b[0m\u001b[38;5;54m─\u001b[0m\u001b[38;5;54m─\u001b[0m\u001b[38;5;54m─\u001b[0m\u001b[38;5;54m─\u001b[0m\u001b[38;5;54m─\u001b[0m\u001b[38;5;54m─\u001b[0m\u001b[38;5;54m─\u001b[0m\u001b[38;5;54m─\u001b[0m\u001b[38;5;54m─\u001b[0m\u001b[38;5;54m─\u001b[0m\u001b[38;5;54m─\u001b[0m\u001b[38;5;54m─\u001b[0m\u001b[38;5;54m─\u001b[0m\u001b[38;5;54m─\u001b[0m\u001b[38;5;54m─\u001b[0m\u001b[38;5;54m─\u001b[0m\u001b[38;5;54m─\u001b[0m\u001b[38;5;54m─\u001b[0m\u001b[38;5;54m─\u001b[0m\u001b[38;5;54m─\u001b[0m\u001b[38;5;54m─\u001b[0m\u001b[38;5;54m─\u001b[0m\u001b[38;5;54m─\u001b[0m\u001b[38;5;54m─\u001b[0m\u001b[38;5;54m─\u001b[0m\u001b[38;5;54m─\u001b[0m\u001b[38;5;54m─\u001b[0m\u001b[38;5;54m─\u001b[0m\u001b[38;5;54m─\u001b[0m\u001b[38;5;54m─\u001b[0m\u001b[38;5;54m─\u001b[0m\u001b[38;5;54m─\u001b[0m\u001b[38;5;54m─\u001b[0m\u001b[38;5;54m─\u001b[0m\u001b[38;5;54m─\u001b[0m\u001b[38;5;54m─\u001b[0m\u001b[38;5;54m─\u001b[0m\u001b[38;5;54m─\u001b[0m the `?` operator cannot be applied to type `&mut plotters::chart::ChartBuilder<'_, '_, SVGBackend<'_>>`",
      "\u001b[38;5;246m───╯\u001b[0m"
     ]
    }
   ],
   "source": [
    "let figure = evcxr_figure((640, 480), |root| {\n",
    "    root.fill(&WHITE);\n",
    "    let mut chart = ChartBuilder::on(&root)\n",
    "        .caption(\"y=x^2\", (\"Arial\", 50).into_font())\n",
    "        .margin(5)\n",
    "        .x_label_area_size(30)\n",
    "        .y_label_area_size(30)\n",
    "        .build_cartesian_2d(-1f32..1f32, -0.1f32..1f32)?;\n",
    "\n",
    "    chart.configure_mesh().draw()?;\n",
    "\n",
    "    chart.draw_series(LineSeries::new(\n",
    "        (-50..=50).map(|x| x as f32 / 50.0).map(|x| (x, x * x)),\n",
    "        &RED,\n",
    "    )).unwrap()\n",
    "        .label(\"y = x^2\")\n",
    "        .legend(|(x,y)| PathElement::new(vec![(x,y), (x + 20,y)], &RED));\n",
    "\n",
    "    chart.configure_series_labels()\n",
    "        .background_style(&WHITE.mix(0.8))\n",
    "        .border_style(&BLACK)\n",
    "        .draw()?;\n",
    "    Ok(())\n",
    "});\n",
    "figure"
   ]
  },
  {
   "cell_type": "code",
   "execution_count": null,
   "metadata": {
    "vscode": {
     "languageId": "rust"
    }
   },
   "outputs": [],
   "source": [
    "fn f(t: f64, x: &[f64; 3]) -> [f64; 3] {\n",
    "    [\n",
    "        77.27 * (x[1] + x[0] * (1.0 - 8.375e-6 * x[0] - x[1])),\n",
    "        1.0 / 77.27 * (x[2] - (1.0 + x[0]) * x[1]),\n",
    "        0.161 * (x[0] - x[2]),\n",
    "    ]\n",
    "}\n",
    "\n",
    "let mut solver: solvers::RungeKuttaMethod<3, 3> = solvers::RungeKuttaMethod::new(\n",
    "    f,\n",
    "    0f64,\n",
    "    800f64,\n",
    "    0.000005f64,\n",
    "    &[0.5f64, 0.5f64, 0.5f64],\n",
    "    3,\n",
    "    Some(10000u32),\n",
    ");\n",
    "\n",
    "solver.set_butcher_table(solvers::ButcherTable::<3>::new(\n",
    "    [\n",
    "        [ 0.0, 0.0, 0.0],\n",
    "        [ 0.5, 0.0, 0.0],\n",
    "        [-1.0, 2.0, 0.0],\n",
    "    ],\n",
    "    [1f64 / 6f64, 2f64 / 3f64, 1f64 / 6f64],\n",
    "    [0f64, 0.5f64, 1f64],\n",
    "    \"Kutta's third-order method\",\n",
    "));\n",
    "\n",
    "solver.solve(false);\n",
    "\n",
    "// let figure = evcxr_figure((640, 480), |root| {\n",
    "//     root.fill(&WHITE);\n",
    "//     let mut chart = ChartBuilder::on(&root)\n",
    "//         .caption(\"y=x^2\", (\"Arial\", 50).into_font())\n",
    "//         .margin(5)\n",
    "//         .x_label_area_size(30)\n",
    "//         .y_label_area_size(30)\n",
    "//         .build_ranged(-1f32..1f32, -0.1f32..1f32)?;\n",
    "\n",
    "//     chart.configure_mesh().draw()?;\n",
    "\n",
    "//     chart.draw_series(LineSeries::new(\n",
    "//         (-50..=50).map(|x| x as f32 / 50.0).map(|x| (x, x * x)),\n",
    "//         &RED,\n",
    "//     )).unwrap()\n",
    "//         .label(\"y = x^2\")\n",
    "//         .legend(|(x,y)| PathElement::new(vec![(x,y), (x + 20,y)], &RED));\n",
    "\n",
    "//     chart.configure_series_labels()\n",
    "//         .background_style(&WHITE.mix(0.8))\n",
    "//         .border_style(&BLACK)\n",
    "//         .draw()?;\n",
    "//     Ok(())\n",
    "// });\n",
    "// figure\n"
   ]
  },
  {
   "cell_type": "markdown",
   "metadata": {},
   "source": [
    "# Лабораторная работа 1 Системы ОДУ"
   ]
  },
  {
   "cell_type": "markdown",
   "metadata": {},
   "source": [
    "$$ y'' + e (y^2 - 1)y'+ y = 0, e > 0, y(0) = 2, y'(0) = 0 $$\n",
    "$$\n",
    "    \\begin{cases}\n",
    "        x'= z \\\\\n",
    "        z' = e(1-x^2) z - x \\\\\n",
    "        x(0) = 2 \\\\\n",
    "        z(0) = 0\n",
    "    \\end{cases}\n",
    "$$"
   ]
  },
  {
   "cell_type": "code",
   "execution_count": null,
   "metadata": {
    "vscode": {
     "languageId": "rust"
    }
   },
   "outputs": [],
   "source": [
    "t = []\n",
    "x = []\n",
    "\n",
    "with open(\"comp_math_rs/test.csv\", \"r\") as f:\n",
    "    for line in f:\n",
    "        t_i = float(line.split(\",\")[0])\n",
    "        x_i = list(map(float, line.split(\",\")))[1:]\n",
    "        t.append(t_i)\n",
    "        x.append(x_i)\n",
    "\n",
    "tau = 0.05\n",
    "\n",
    "methods: list[solvers.RungeKuttaMethod] = []\n",
    "\n",
    "methods.append(\n",
    "    solvers.RungeKuttaMethod(\n",
    "        \"Kutta's third-order method\",\n",
    "        3,\n",
    "        solvers.ButcherTable(\n",
    "            [\n",
    "                [0.0,  0.0, 0.0, 0.0],\n",
    "                [1/2,  1/2, 0.0, 0.0],\n",
    "                [1.0, -1.0, 2.0, 0.0],\n",
    "                [0.0,  1/6, 2/3, 1/6],\n",
    "            ]\n",
    "        )\n",
    "    )\n",
    ")\n",
    "\n",
    "methods[0].set_solution(t, x)\n",
    "\n",
    "for method in methods:\n",
    "    # tau = method.step or tau\n",
    "    # method = solvers.solve_runge_kutta(f, t_start, t_stop, tau, x_0, method, print_progress=print_progress)\n",
    "    if plot_single:\n",
    "        plotters.plot_solutions([method], multidimensionals_solution=True)\n",
    "\n",
    "# plotters.plot_solutions(methods, multidimensionals_solution=False)\n"
   ]
  }
 ],
 "metadata": {
  "kernelspec": {
   "display_name": "Rust",
   "language": "rust",
   "name": "rust"
  },
  "language_info": {
   "codemirror_mode": "rust",
   "file_extension": ".rs",
   "mimetype": "text/rust",
   "name": "Rust",
   "pygment_lexer": "rust",
   "version": ""
  }
 },
 "nbformat": 4,
 "nbformat_minor": 2
}
